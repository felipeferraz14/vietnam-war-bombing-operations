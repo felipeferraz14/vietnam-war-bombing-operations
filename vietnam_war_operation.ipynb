{
 "cells": [
  {
   "cell_type": "code",
   "execution_count": 72,
   "metadata": {
    "collapsed": true
   },
   "outputs": [],
   "source": [
    "import pandas as pd\n",
    "from pandas import *\n",
    "from seaborn import *\n",
    "from matplotlib.pyplot import *\n",
    "from datetime import date\n",
    "import numpy as np\n",
    "from statsmodels.formula.api import *\n",
    "%matplotlib inline\n",
    "plt.style.use('ggplot')\n",
    "import matplotlib.pyplot as plt\n",
    "# from wordcloud import WordCloud, STOPWORDS\n",
    "import nltk\n",
    "\n",
    "np.set_printoptions(threshold=np.inf)"
   ]
  },
  {
   "cell_type": "code",
   "execution_count": 2,
   "metadata": {},
   "outputs": [
    {
     "name": "stderr",
     "output_type": "stream",
     "text": [
      "C:\\Users\\Felipe\\Anaconda3\\lib\\site-packages\\IPython\\core\\interactiveshell.py:2717: DtypeWarning: Columns (0,13,18,19,20,22,26,29,30,32,35,44) have mixed types. Specify dtype option on import or set low_memory=False.\n",
      "  interactivity=interactivity, compiler=compiler, result=result)\n"
     ]
    }
   ],
   "source": [
    "war = pd.read_csv('thor_vbo_new.csv')"
   ]
  },
  {
   "cell_type": "code",
   "execution_count": 3,
   "metadata": {
    "collapsed": true
   },
   "outputs": [],
   "source": [
    "countrys_mission = war['COUNTRYFLYINGMISSION'].value_counts()"
   ]
  },
  {
   "cell_type": "code",
   "execution_count": 4,
   "metadata": {
    "collapsed": true
   },
   "outputs": [],
   "source": [
    "aircraft_mission = war['VALID_AIRCRAFT_ROOT'].value_counts()"
   ]
  },
  {
   "cell_type": "markdown",
   "metadata": {},
   "source": [
    "## Qual o tipo de TGT mais utilizado durante a guerra?"
   ]
  },
  {
   "cell_type": "code",
   "execution_count": 5,
   "metadata": {
    "collapsed": true
   },
   "outputs": [],
   "source": [
    "tgttype = war.groupby('TGTTYPE').size()"
   ]
  },
  {
   "cell_type": "code",
   "execution_count": 6,
   "metadata": {
    "collapsed": true
   },
   "outputs": [],
   "source": [
    "most_tgttype = tgttype.sort_values(ascending=False)"
   ]
  },
  {
   "cell_type": "markdown",
   "metadata": {},
   "source": [
    "## Quais as armas utilizadas para destruir e causar estrago?"
   ]
  },
  {
   "cell_type": "code",
   "execution_count": 7,
   "metadata": {
    "collapsed": true
   },
   "outputs": [],
   "source": [
    "dfResultCountry = war.groupby(['RESULTSBDA', 'TGTCOUNTRY']).size()"
   ]
  },
  {
   "cell_type": "code",
   "execution_count": 8,
   "metadata": {
    "collapsed": true,
    "scrolled": true
   },
   "outputs": [],
   "source": [
    "dfResultType = war.groupby(['RESULTSBDA','TGTTYPE']).size()"
   ]
  },
  {
   "cell_type": "code",
   "execution_count": 9,
   "metadata": {
    "collapsed": true
   },
   "outputs": [],
   "source": [
    "dfResultFuncGB = war.groupby(['RESULTSBDA', 'MFUNC_DESC']).size()"
   ]
  },
  {
   "cell_type": "code",
   "execution_count": 10,
   "metadata": {
    "collapsed": true
   },
   "outputs": [],
   "source": [
    "dfResultWeapons = war.groupby(['RESULTSBDA', 'WEAPONTYPE']).size()"
   ]
  },
  {
   "cell_type": "code",
   "execution_count": 11,
   "metadata": {
    "collapsed": true
   },
   "outputs": [],
   "source": [
    "mFuncDescDestroyed= dfResultFuncGB['DESTROYED']"
   ]
  },
  {
   "cell_type": "code",
   "execution_count": 12,
   "metadata": {
    "collapsed": true
   },
   "outputs": [],
   "source": [
    "weaponTypeDestroyed= dfResultWeapons['DESTROYED']"
   ]
  },
  {
   "cell_type": "code",
   "execution_count": 13,
   "metadata": {
    "collapsed": true
   },
   "outputs": [],
   "source": [
    "funcDestroy = mFuncDescDestroyed.head(10).sort_values(ascending=False)"
   ]
  },
  {
   "cell_type": "code",
   "execution_count": 14,
   "metadata": {
    "collapsed": true
   },
   "outputs": [],
   "source": [
    "dfFuncDestroy = pd.DataFrame(data=funcDestroy)"
   ]
  },
  {
   "cell_type": "code",
   "execution_count": 15,
   "metadata": {},
   "outputs": [
    {
     "data": {
      "text/html": [
       "<div>\n",
       "<style>\n",
       "    .dataframe thead tr:only-child th {\n",
       "        text-align: right;\n",
       "    }\n",
       "\n",
       "    .dataframe thead th {\n",
       "        text-align: left;\n",
       "    }\n",
       "\n",
       "    .dataframe tbody tr th {\n",
       "        vertical-align: top;\n",
       "    }\n",
       "</style>\n",
       "<table border=\"1\" class=\"dataframe\">\n",
       "  <thead>\n",
       "    <tr style=\"text-align: right;\">\n",
       "      <th></th>\n",
       "      <th>0</th>\n",
       "    </tr>\n",
       "    <tr>\n",
       "      <th>MFUNC_DESC</th>\n",
       "      <th></th>\n",
       "    </tr>\n",
       "  </thead>\n",
       "  <tbody>\n",
       "    <tr>\n",
       "      <th>CLOSE AIR SUPPORT</th>\n",
       "      <td>6671</td>\n",
       "    </tr>\n",
       "    <tr>\n",
       "      <th>AIR INTERDICTION</th>\n",
       "      <td>1293</td>\n",
       "    </tr>\n",
       "    <tr>\n",
       "      <th>ARMED RECCE</th>\n",
       "      <td>534</td>\n",
       "    </tr>\n",
       "    <tr>\n",
       "      <th>DIRECT AIR SUPPORT</th>\n",
       "      <td>32</td>\n",
       "    </tr>\n",
       "    <tr>\n",
       "      <th>ARMED HELICOPTER</th>\n",
       "      <td>11</td>\n",
       "    </tr>\n",
       "    <tr>\n",
       "      <th>ECM</th>\n",
       "      <td>2</td>\n",
       "    </tr>\n",
       "    <tr>\n",
       "      <th>EXTRACTION (PLADS)</th>\n",
       "      <td>1</td>\n",
       "    </tr>\n",
       "    <tr>\n",
       "      <th>EXTRACTION (GPES)</th>\n",
       "      <td>1</td>\n",
       "    </tr>\n",
       "    <tr>\n",
       "      <th>ESCORT-RECON</th>\n",
       "      <td>1</td>\n",
       "    </tr>\n",
       "    <tr>\n",
       "      <th>AIRBORNE ALERT</th>\n",
       "      <td>1</td>\n",
       "    </tr>\n",
       "  </tbody>\n",
       "</table>\n",
       "</div>"
      ],
      "text/plain": [
       "                       0\n",
       "MFUNC_DESC              \n",
       "CLOSE AIR SUPPORT   6671\n",
       "AIR INTERDICTION    1293\n",
       "ARMED RECCE          534\n",
       "DIRECT AIR SUPPORT    32\n",
       "ARMED HELICOPTER      11\n",
       "ECM                    2\n",
       "EXTRACTION (PLADS)     1\n",
       "EXTRACTION (GPES)      1\n",
       "ESCORT-RECON           1\n",
       "AIRBORNE ALERT         1"
      ]
     },
     "execution_count": 15,
     "metadata": {},
     "output_type": "execute_result"
    }
   ],
   "source": [
    "dfFuncDestroy"
   ]
  },
  {
   "cell_type": "code",
   "execution_count": 17,
   "metadata": {},
   "outputs": [
    {
     "data": {
      "image/png": "[encoded data removed]",
      "text/plain": [
       "<matplotlib.figure.Figure at 0x207bb35bb38>"
      ]
     },
     "metadata": {},
     "output_type": "display_data"
    }
   ],
   "source": [
    "dfFuncDestroy.plot(kind='barh', figsize=(11,7), color='blue');"
   ]
  },
  {
   "cell_type": "code",
   "execution_count": 57,
   "metadata": {},
   "outputs": [
    {
     "data": {
      "text/html": [
       "<div>\n",
       "<style>\n",
       "    .dataframe thead tr:only-child th {\n",
       "        text-align: right;\n",
       "    }\n",
       "\n",
       "    .dataframe thead th {\n",
       "        text-align: left;\n",
       "    }\n",
       "\n",
       "    .dataframe tbody tr th {\n",
       "        vertical-align: top;\n",
       "    }\n",
       "</style>\n",
       "<table border=\"1\" class=\"dataframe\">\n",
       "  <thead>\n",
       "    <tr style=\"text-align: right;\">\n",
       "      <th></th>\n",
       "      <th>MFUNC_DESC</th>\n",
       "      <th>WEAPONTYPE</th>\n",
       "      <th>TGTTYPE</th>\n",
       "      <th>TGTCOUNTRY</th>\n",
       "    </tr>\n",
       "    <tr>\n",
       "      <th>RESULTSBDA</th>\n",
       "      <th></th>\n",
       "      <th></th>\n",
       "      <th></th>\n",
       "      <th></th>\n",
       "    </tr>\n",
       "  </thead>\n",
       "  <tbody>\n",
       "    <tr>\n",
       "      <th>DESTROYED</th>\n",
       "      <td>AIR INTERDICTION</td>\n",
       "      <td>NaN</td>\n",
       "      <td>SAMPANS</td>\n",
       "      <td>SOUTH VIETNAM</td>\n",
       "    </tr>\n",
       "    <tr>\n",
       "      <th>DESTROYED</th>\n",
       "      <td>AIR INTERDICTION</td>\n",
       "      <td>NaN</td>\n",
       "      <td>SUPPLIES\\RICE\\WEAPONS</td>\n",
       "      <td>CAMBODIA</td>\n",
       "    </tr>\n",
       "    <tr>\n",
       "      <th>DESTROYED</th>\n",
       "      <td>AIR INTERDICTION</td>\n",
       "      <td>NaN</td>\n",
       "      <td>TRENCH</td>\n",
       "      <td>SOUTH VIETNAM</td>\n",
       "    </tr>\n",
       "    <tr>\n",
       "      <th>DESTROYED</th>\n",
       "      <td>AIR INTERDICTION</td>\n",
       "      <td>NaN</td>\n",
       "      <td>FOX HOLES</td>\n",
       "      <td>SOUTH VIETNAM</td>\n",
       "    </tr>\n",
       "    <tr>\n",
       "      <th>DESTROYED</th>\n",
       "      <td>AIR INTERDICTION</td>\n",
       "      <td>NaN</td>\n",
       "      <td>AA SITE</td>\n",
       "      <td>NaN</td>\n",
       "    </tr>\n",
       "    <tr>\n",
       "      <th>DESTROYED</th>\n",
       "      <td>AIR INTERDICTION</td>\n",
       "      <td>CBU25 AN PR/MT (BLU24)</td>\n",
       "      <td>FOX HOLES</td>\n",
       "      <td>SOUTH VIETNAM</td>\n",
       "    </tr>\n",
       "    <tr>\n",
       "      <th>DESTROYED</th>\n",
       "      <td>AIR INTERDICTION</td>\n",
       "      <td>NaN</td>\n",
       "      <td>SAMPANS</td>\n",
       "      <td>CAMBODIA</td>\n",
       "    </tr>\n",
       "    <tr>\n",
       "      <th>DESTROYED</th>\n",
       "      <td>AIR INTERDICTION</td>\n",
       "      <td>NaN</td>\n",
       "      <td>ARTILLERY</td>\n",
       "      <td>LAOS</td>\n",
       "    </tr>\n",
       "    <tr>\n",
       "      <th>DESTROYED</th>\n",
       "      <td>AIR INTERDICTION</td>\n",
       "      <td>NaN</td>\n",
       "      <td>ARTILLERY</td>\n",
       "      <td>NaN</td>\n",
       "    </tr>\n",
       "    <tr>\n",
       "      <th>DESTROYED</th>\n",
       "      <td>AIR INTERDICTION</td>\n",
       "      <td>NaN</td>\n",
       "      <td>NaN</td>\n",
       "      <td>SOUTH VIETNAM</td>\n",
       "    </tr>\n",
       "    <tr>\n",
       "      <th>DESTROYED</th>\n",
       "      <td>AIR INTERDICTION</td>\n",
       "      <td>NaN</td>\n",
       "      <td>NaN</td>\n",
       "      <td>CAMBODIA</td>\n",
       "    </tr>\n",
       "    <tr>\n",
       "      <th>DESTROYED</th>\n",
       "      <td>AIR INTERDICTION</td>\n",
       "      <td>BLU32B FIRE BOMB (500)</td>\n",
       "      <td>FOX HOLES</td>\n",
       "      <td>CAMBODIA</td>\n",
       "    </tr>\n",
       "    <tr>\n",
       "      <th>DESTROYED</th>\n",
       "      <td>AIR INTERDICTION</td>\n",
       "      <td>NaN</td>\n",
       "      <td>NaN</td>\n",
       "      <td>NaN</td>\n",
       "    </tr>\n",
       "    <tr>\n",
       "      <th>DESTROYED</th>\n",
       "      <td>AIR INTERDICTION</td>\n",
       "      <td>NaN</td>\n",
       "      <td>CAVES</td>\n",
       "      <td>SOUTH VIETNAM</td>\n",
       "    </tr>\n",
       "    <tr>\n",
       "      <th>DESTROYED</th>\n",
       "      <td>AIR INTERDICTION</td>\n",
       "      <td>NaN</td>\n",
       "      <td>SAMPANS</td>\n",
       "      <td>CAMBODIA</td>\n",
       "    </tr>\n",
       "    <tr>\n",
       "      <th>DESTROYED</th>\n",
       "      <td>AIR INTERDICTION</td>\n",
       "      <td>NaN</td>\n",
       "      <td>NaN</td>\n",
       "      <td>CAMBODIA</td>\n",
       "    </tr>\n",
       "    <tr>\n",
       "      <th>DESTROYED</th>\n",
       "      <td>AIR INTERDICTION</td>\n",
       "      <td>NaN</td>\n",
       "      <td>NaN</td>\n",
       "      <td>NaN</td>\n",
       "    </tr>\n",
       "    <tr>\n",
       "      <th>DESTROYED</th>\n",
       "      <td>AIR INTERDICTION</td>\n",
       "      <td>BLU27 FIRE BOMB (750)</td>\n",
       "      <td>FOX HOLES</td>\n",
       "      <td>SOUTH VIETNAM</td>\n",
       "    </tr>\n",
       "    <tr>\n",
       "      <th>DESTROYED</th>\n",
       "      <td>AIR INTERDICTION</td>\n",
       "      <td>NaN</td>\n",
       "      <td>NaN</td>\n",
       "      <td>SOUTH VIETNAM</td>\n",
       "    </tr>\n",
       "    <tr>\n",
       "      <th>DESTROYED</th>\n",
       "      <td>AIR INTERDICTION</td>\n",
       "      <td>NaN</td>\n",
       "      <td>FOX HOLES</td>\n",
       "      <td>NaN</td>\n",
       "    </tr>\n",
       "    <tr>\n",
       "      <th>DESTROYED</th>\n",
       "      <td>AIR INTERDICTION</td>\n",
       "      <td>NaN</td>\n",
       "      <td>NaN</td>\n",
       "      <td>CAMBODIA</td>\n",
       "    </tr>\n",
       "    <tr>\n",
       "      <th>DESTROYED</th>\n",
       "      <td>AIR INTERDICTION</td>\n",
       "      <td>NaN</td>\n",
       "      <td>FOX HOLES</td>\n",
       "      <td>CAMBODIA</td>\n",
       "    </tr>\n",
       "    <tr>\n",
       "      <th>DESTROYED</th>\n",
       "      <td>AIR INTERDICTION</td>\n",
       "      <td>MK 82 GP BOMB (500) LD</td>\n",
       "      <td>FOX HOLES</td>\n",
       "      <td>CAMBODIA</td>\n",
       "    </tr>\n",
       "    <tr>\n",
       "      <th>DESTROYED</th>\n",
       "      <td>AIR INTERDICTION</td>\n",
       "      <td>20 MM AMMO (HNDRDS)</td>\n",
       "      <td>NaN</td>\n",
       "      <td>SOUTH VIETNAM</td>\n",
       "    </tr>\n",
       "    <tr>\n",
       "      <th>DESTROYED</th>\n",
       "      <td>AIR INTERDICTION</td>\n",
       "      <td>LAU3/MA RKT LCHR (19)</td>\n",
       "      <td>NaN</td>\n",
       "      <td>SOUTH VIETNAM</td>\n",
       "    </tr>\n",
       "    <tr>\n",
       "      <th>DESTROYED</th>\n",
       "      <td>AIR INTERDICTION</td>\n",
       "      <td>NaN</td>\n",
       "      <td>MORTAR SITE</td>\n",
       "      <td>LAOS</td>\n",
       "    </tr>\n",
       "    <tr>\n",
       "      <th>DESTROYED</th>\n",
       "      <td>AIR INTERDICTION</td>\n",
       "      <td>NaN</td>\n",
       "      <td>MILITARY VEHICLES</td>\n",
       "      <td>SOUTH VIETNAM</td>\n",
       "    </tr>\n",
       "    <tr>\n",
       "      <th>DESTROYED</th>\n",
       "      <td>AIR INTERDICTION</td>\n",
       "      <td>NaN</td>\n",
       "      <td>ROCKET SITE</td>\n",
       "      <td>CAMBODIA</td>\n",
       "    </tr>\n",
       "    <tr>\n",
       "      <th>DESTROYED</th>\n",
       "      <td>AIR INTERDICTION</td>\n",
       "      <td>NaN</td>\n",
       "      <td>POL BARRELS</td>\n",
       "      <td>SOUTH VIETNAM</td>\n",
       "    </tr>\n",
       "    <tr>\n",
       "      <th>DESTROYED</th>\n",
       "      <td>AIR INTERDICTION</td>\n",
       "      <td>NaN</td>\n",
       "      <td>NaN</td>\n",
       "      <td>CAMBODIA</td>\n",
       "    </tr>\n",
       "    <tr>\n",
       "      <th>...</th>\n",
       "      <td>...</td>\n",
       "      <td>...</td>\n",
       "      <td>...</td>\n",
       "      <td>...</td>\n",
       "    </tr>\n",
       "    <tr>\n",
       "      <th>DESTROYED</th>\n",
       "      <td>TARCON</td>\n",
       "      <td>NaN</td>\n",
       "      <td>SAMPANS</td>\n",
       "      <td>SOUTH VIETNAM</td>\n",
       "    </tr>\n",
       "    <tr>\n",
       "      <th>DESTROYED</th>\n",
       "      <td>TARCON</td>\n",
       "      <td>NaN</td>\n",
       "      <td>NaN</td>\n",
       "      <td>SOUTH VIETNAM</td>\n",
       "    </tr>\n",
       "    <tr>\n",
       "      <th>DESTROYED</th>\n",
       "      <td>TARCON</td>\n",
       "      <td>NaN</td>\n",
       "      <td>SAMPANS</td>\n",
       "      <td>CAMBODIA</td>\n",
       "    </tr>\n",
       "    <tr>\n",
       "      <th>DESTROYED</th>\n",
       "      <td>TARCON</td>\n",
       "      <td>LAU3/MA RKT LCHR (19)</td>\n",
       "      <td>ARTILLERY</td>\n",
       "      <td>SOUTH VIETNAM</td>\n",
       "    </tr>\n",
       "    <tr>\n",
       "      <th>DESTROYED</th>\n",
       "      <td>TARCON</td>\n",
       "      <td>LAU3/MA RKT LCHR (19)</td>\n",
       "      <td>NaN</td>\n",
       "      <td>SOUTH VIETNAM</td>\n",
       "    </tr>\n",
       "    <tr>\n",
       "      <th>DESTROYED</th>\n",
       "      <td>TARCON</td>\n",
       "      <td>NaN</td>\n",
       "      <td>NaN</td>\n",
       "      <td>SOUTH VIETNAM</td>\n",
       "    </tr>\n",
       "    <tr>\n",
       "      <th>DESTROYED</th>\n",
       "      <td>TARCON</td>\n",
       "      <td>NaN</td>\n",
       "      <td>NaN</td>\n",
       "      <td>SOUTH VIETNAM</td>\n",
       "    </tr>\n",
       "    <tr>\n",
       "      <th>DESTROYED</th>\n",
       "      <td>TARCON</td>\n",
       "      <td>NaN</td>\n",
       "      <td>NaN</td>\n",
       "      <td>SOUTH VIETNAM</td>\n",
       "    </tr>\n",
       "    <tr>\n",
       "      <th>DESTROYED</th>\n",
       "      <td>TARCON</td>\n",
       "      <td>7.62 AMMO</td>\n",
       "      <td>SAMPANS</td>\n",
       "      <td>SOUTH VIETNAM</td>\n",
       "    </tr>\n",
       "    <tr>\n",
       "      <th>DESTROYED</th>\n",
       "      <td>TARCON</td>\n",
       "      <td>NaN</td>\n",
       "      <td>NaN</td>\n",
       "      <td>SOUTH VIETNAM</td>\n",
       "    </tr>\n",
       "    <tr>\n",
       "      <th>DESTROYED</th>\n",
       "      <td>TARCON</td>\n",
       "      <td>20 MM AMMO (HNDRDS)</td>\n",
       "      <td>NaN</td>\n",
       "      <td>SOUTH VIETNAM</td>\n",
       "    </tr>\n",
       "    <tr>\n",
       "      <th>DESTROYED</th>\n",
       "      <td>TARCON</td>\n",
       "      <td>NaN</td>\n",
       "      <td>NaN</td>\n",
       "      <td>SOUTH VIETNAM</td>\n",
       "    </tr>\n",
       "    <tr>\n",
       "      <th>DESTROYED</th>\n",
       "      <td>TARCON</td>\n",
       "      <td>NaN</td>\n",
       "      <td>NaN</td>\n",
       "      <td>SOUTH VIETNAM</td>\n",
       "    </tr>\n",
       "    <tr>\n",
       "      <th>DESTROYED</th>\n",
       "      <td>TARCON</td>\n",
       "      <td>NaN</td>\n",
       "      <td>SAMPANS</td>\n",
       "      <td>CAMBODIA</td>\n",
       "    </tr>\n",
       "    <tr>\n",
       "      <th>DESTROYED</th>\n",
       "      <td>TARCON</td>\n",
       "      <td>7.62 AMMO</td>\n",
       "      <td>SAMPANS</td>\n",
       "      <td>CAMBODIA</td>\n",
       "    </tr>\n",
       "    <tr>\n",
       "      <th>DESTROYED</th>\n",
       "      <td>TARCON</td>\n",
       "      <td>NaN</td>\n",
       "      <td>FOOT BRIDGE</td>\n",
       "      <td>SOUTH VIETNAM</td>\n",
       "    </tr>\n",
       "    <tr>\n",
       "      <th>DESTROYED</th>\n",
       "      <td>TARCON</td>\n",
       "      <td>NaN</td>\n",
       "      <td>RAILROAD BRIDGE</td>\n",
       "      <td>SOUTH VIETNAM</td>\n",
       "    </tr>\n",
       "    <tr>\n",
       "      <th>DESTROYED</th>\n",
       "      <td>TARCON</td>\n",
       "      <td>7.62 AMMO</td>\n",
       "      <td>MORTAR SITE</td>\n",
       "      <td>CAMBODIA</td>\n",
       "    </tr>\n",
       "    <tr>\n",
       "      <th>DESTROYED</th>\n",
       "      <td>TARCON</td>\n",
       "      <td>NaN</td>\n",
       "      <td>SAMPANS</td>\n",
       "      <td>SOUTH VIETNAM</td>\n",
       "    </tr>\n",
       "    <tr>\n",
       "      <th>DESTROYED</th>\n",
       "      <td>TARCON</td>\n",
       "      <td>NaN</td>\n",
       "      <td>NaN</td>\n",
       "      <td>SOUTH VIETNAM</td>\n",
       "    </tr>\n",
       "    <tr>\n",
       "      <th>DESTROYED</th>\n",
       "      <td>VISUAL RECCE</td>\n",
       "      <td>LAU3/MA RKT LCHR (19)</td>\n",
       "      <td>TRUCKS</td>\n",
       "      <td>NORTH VIETNAM</td>\n",
       "    </tr>\n",
       "    <tr>\n",
       "      <th>DESTROYED</th>\n",
       "      <td>NaN</td>\n",
       "      <td>BLU32B FIRE BOMB (500)</td>\n",
       "      <td>TUNNELS</td>\n",
       "      <td>SOUTH VIETNAM</td>\n",
       "    </tr>\n",
       "    <tr>\n",
       "      <th>DESTROYED</th>\n",
       "      <td>NaN</td>\n",
       "      <td>MK-20 AN TANK/MTL</td>\n",
       "      <td>TRUCKS</td>\n",
       "      <td>NORTH VIETNAM</td>\n",
       "    </tr>\n",
       "    <tr>\n",
       "      <th>DESTROYED</th>\n",
       "      <td>NaN</td>\n",
       "      <td>7.62 AMMO</td>\n",
       "      <td>SAMPANS</td>\n",
       "      <td>SOUTH VIETNAM</td>\n",
       "    </tr>\n",
       "    <tr>\n",
       "      <th>DESTROYED</th>\n",
       "      <td>NaN</td>\n",
       "      <td>NaN</td>\n",
       "      <td>TRENCH</td>\n",
       "      <td>LAOS</td>\n",
       "    </tr>\n",
       "    <tr>\n",
       "      <th>DESTROYED</th>\n",
       "      <td>NaN</td>\n",
       "      <td>MK81 GP BOMB (250)</td>\n",
       "      <td>TUNNELS</td>\n",
       "      <td>SOUTH VIETNAM</td>\n",
       "    </tr>\n",
       "    <tr>\n",
       "      <th>DESTROYED</th>\n",
       "      <td>NaN</td>\n",
       "      <td>NaN</td>\n",
       "      <td>ARTILLERY</td>\n",
       "      <td>NORTH VIETNAM</td>\n",
       "    </tr>\n",
       "    <tr>\n",
       "      <th>DESTROYED</th>\n",
       "      <td>NaN</td>\n",
       "      <td>CBU38 AN MTL (BLU49)</td>\n",
       "      <td>SUPPLIES\\RICE\\WEAPONS</td>\n",
       "      <td>NORTH VIETNAM</td>\n",
       "    </tr>\n",
       "    <tr>\n",
       "      <th>DESTROYED</th>\n",
       "      <td>NaN</td>\n",
       "      <td>NaN</td>\n",
       "      <td>AAA SITE UNK CAL</td>\n",
       "      <td>SOUTH VIETNAM</td>\n",
       "    </tr>\n",
       "    <tr>\n",
       "      <th>DESTROYED</th>\n",
       "      <td>NaN</td>\n",
       "      <td>NaN</td>\n",
       "      <td>AAA\\37MM  CR MORE</td>\n",
       "      <td>LAOS</td>\n",
       "    </tr>\n",
       "  </tbody>\n",
       "</table>\n",
       "<p>10258 rows × 4 columns</p>\n",
       "</div>"
      ],
      "text/plain": [
       "                  MFUNC_DESC              WEAPONTYPE                TGTTYPE  \\\n",
       "RESULTSBDA                                                                    \n",
       "DESTROYED   AIR INTERDICTION                     NaN                SAMPANS   \n",
       "DESTROYED   AIR INTERDICTION                     NaN  SUPPLIES\\RICE\\WEAPONS   \n",
       "DESTROYED   AIR INTERDICTION                     NaN                 TRENCH   \n",
       "DESTROYED   AIR INTERDICTION                     NaN              FOX HOLES   \n",
       "DESTROYED   AIR INTERDICTION                     NaN                AA SITE   \n",
       "DESTROYED   AIR INTERDICTION  CBU25 AN PR/MT (BLU24)              FOX HOLES   \n",
       "DESTROYED   AIR INTERDICTION                     NaN                SAMPANS   \n",
       "DESTROYED   AIR INTERDICTION                     NaN              ARTILLERY   \n",
       "DESTROYED   AIR INTERDICTION                     NaN              ARTILLERY   \n",
       "DESTROYED   AIR INTERDICTION                     NaN                    NaN   \n",
       "DESTROYED   AIR INTERDICTION                     NaN                    NaN   \n",
       "DESTROYED   AIR INTERDICTION  BLU32B FIRE BOMB (500)              FOX HOLES   \n",
       "DESTROYED   AIR INTERDICTION                     NaN                    NaN   \n",
       "DESTROYED   AIR INTERDICTION                     NaN                  CAVES   \n",
       "DESTROYED   AIR INTERDICTION                     NaN                SAMPANS   \n",
       "DESTROYED   AIR INTERDICTION                     NaN                    NaN   \n",
       "DESTROYED   AIR INTERDICTION                     NaN                    NaN   \n",
       "DESTROYED   AIR INTERDICTION   BLU27 FIRE BOMB (750)              FOX HOLES   \n",
       "DESTROYED   AIR INTERDICTION                     NaN                    NaN   \n",
       "DESTROYED   AIR INTERDICTION                     NaN              FOX HOLES   \n",
       "DESTROYED   AIR INTERDICTION                     NaN                    NaN   \n",
       "DESTROYED   AIR INTERDICTION                     NaN              FOX HOLES   \n",
       "DESTROYED   AIR INTERDICTION  MK 82 GP BOMB (500) LD              FOX HOLES   \n",
       "DESTROYED   AIR INTERDICTION     20 MM AMMO (HNDRDS)                    NaN   \n",
       "DESTROYED   AIR INTERDICTION   LAU3/MA RKT LCHR (19)                    NaN   \n",
       "DESTROYED   AIR INTERDICTION                     NaN            MORTAR SITE   \n",
       "DESTROYED   AIR INTERDICTION                     NaN      MILITARY VEHICLES   \n",
       "DESTROYED   AIR INTERDICTION                     NaN            ROCKET SITE   \n",
       "DESTROYED   AIR INTERDICTION                     NaN            POL BARRELS   \n",
       "DESTROYED   AIR INTERDICTION                     NaN                    NaN   \n",
       "...                      ...                     ...                    ...   \n",
       "DESTROYED             TARCON                     NaN                SAMPANS   \n",
       "DESTROYED             TARCON                     NaN                    NaN   \n",
       "DESTROYED             TARCON                     NaN                SAMPANS   \n",
       "DESTROYED             TARCON   LAU3/MA RKT LCHR (19)              ARTILLERY   \n",
       "DESTROYED             TARCON   LAU3/MA RKT LCHR (19)                    NaN   \n",
       "DESTROYED             TARCON                     NaN                    NaN   \n",
       "DESTROYED             TARCON                     NaN                    NaN   \n",
       "DESTROYED             TARCON                     NaN                    NaN   \n",
       "DESTROYED             TARCON               7.62 AMMO                SAMPANS   \n",
       "DESTROYED             TARCON                     NaN                    NaN   \n",
       "DESTROYED             TARCON     20 MM AMMO (HNDRDS)                    NaN   \n",
       "DESTROYED             TARCON                     NaN                    NaN   \n",
       "DESTROYED             TARCON                     NaN                    NaN   \n",
       "DESTROYED             TARCON                     NaN                SAMPANS   \n",
       "DESTROYED             TARCON               7.62 AMMO                SAMPANS   \n",
       "DESTROYED             TARCON                     NaN            FOOT BRIDGE   \n",
       "DESTROYED             TARCON                     NaN        RAILROAD BRIDGE   \n",
       "DESTROYED             TARCON               7.62 AMMO            MORTAR SITE   \n",
       "DESTROYED             TARCON                     NaN                SAMPANS   \n",
       "DESTROYED             TARCON                     NaN                    NaN   \n",
       "DESTROYED       VISUAL RECCE   LAU3/MA RKT LCHR (19)                 TRUCKS   \n",
       "DESTROYED                NaN  BLU32B FIRE BOMB (500)                TUNNELS   \n",
       "DESTROYED                NaN       MK-20 AN TANK/MTL                 TRUCKS   \n",
       "DESTROYED                NaN               7.62 AMMO                SAMPANS   \n",
       "DESTROYED                NaN                     NaN                 TRENCH   \n",
       "DESTROYED                NaN      MK81 GP BOMB (250)                TUNNELS   \n",
       "DESTROYED                NaN                     NaN              ARTILLERY   \n",
       "DESTROYED                NaN    CBU38 AN MTL (BLU49)  SUPPLIES\\RICE\\WEAPONS   \n",
       "DESTROYED                NaN                     NaN       AAA SITE UNK CAL   \n",
       "DESTROYED                NaN                     NaN      AAA\\37MM  CR MORE   \n",
       "\n",
       "               TGTCOUNTRY  \n",
       "RESULTSBDA                 \n",
       "DESTROYED   SOUTH VIETNAM  \n",
       "DESTROYED        CAMBODIA  \n",
       "DESTROYED   SOUTH VIETNAM  \n",
       "DESTROYED   SOUTH VIETNAM  \n",
       "DESTROYED             NaN  \n",
       "DESTROYED   SOUTH VIETNAM  \n",
       "DESTROYED        CAMBODIA  \n",
       "DESTROYED            LAOS  \n",
       "DESTROYED             NaN  \n",
       "DESTROYED   SOUTH VIETNAM  \n",
       "DESTROYED        CAMBODIA  \n",
       "DESTROYED        CAMBODIA  \n",
       "DESTROYED             NaN  \n",
       "DESTROYED   SOUTH VIETNAM  \n",
       "DESTROYED        CAMBODIA  \n",
       "DESTROYED        CAMBODIA  \n",
       "DESTROYED             NaN  \n",
       "DESTROYED   SOUTH VIETNAM  \n",
       "DESTROYED   SOUTH VIETNAM  \n",
       "DESTROYED             NaN  \n",
       "DESTROYED        CAMBODIA  \n",
       "DESTROYED        CAMBODIA  \n",
       "DESTROYED        CAMBODIA  \n",
       "DESTROYED   SOUTH VIETNAM  \n",
       "DESTROYED   SOUTH VIETNAM  \n",
       "DESTROYED            LAOS  \n",
       "DESTROYED   SOUTH VIETNAM  \n",
       "DESTROYED        CAMBODIA  \n",
       "DESTROYED   SOUTH VIETNAM  \n",
       "DESTROYED        CAMBODIA  \n",
       "...                   ...  \n",
       "DESTROYED   SOUTH VIETNAM  \n",
       "DESTROYED   SOUTH VIETNAM  \n",
       "DESTROYED        CAMBODIA  \n",
       "DESTROYED   SOUTH VIETNAM  \n",
       "DESTROYED   SOUTH VIETNAM  \n",
       "DESTROYED   SOUTH VIETNAM  \n",
       "DESTROYED   SOUTH VIETNAM  \n",
       "DESTROYED   SOUTH VIETNAM  \n",
       "DESTROYED   SOUTH VIETNAM  \n",
       "DESTROYED   SOUTH VIETNAM  \n",
       "DESTROYED   SOUTH VIETNAM  \n",
       "DESTROYED   SOUTH VIETNAM  \n",
       "DESTROYED   SOUTH VIETNAM  \n",
       "DESTROYED        CAMBODIA  \n",
       "DESTROYED        CAMBODIA  \n",
       "DESTROYED   SOUTH VIETNAM  \n",
       "DESTROYED   SOUTH VIETNAM  \n",
       "DESTROYED        CAMBODIA  \n",
       "DESTROYED   SOUTH VIETNAM  \n",
       "DESTROYED   SOUTH VIETNAM  \n",
       "DESTROYED   NORTH VIETNAM  \n",
       "DESTROYED   SOUTH VIETNAM  \n",
       "DESTROYED   NORTH VIETNAM  \n",
       "DESTROYED   SOUTH VIETNAM  \n",
       "DESTROYED            LAOS  \n",
       "DESTROYED   SOUTH VIETNAM  \n",
       "DESTROYED   NORTH VIETNAM  \n",
       "DESTROYED   NORTH VIETNAM  \n",
       "DESTROYED   SOUTH VIETNAM  \n",
       "DESTROYED            LAOS  \n",
       "\n",
       "[10258 rows x 4 columns]"
      ]
     },
     "execution_count": 57,
     "metadata": {},
     "output_type": "execute_result"
    }
   ],
   "source": [
    "dfResultFunc = war[['RESULTSBDA', 'MFUNC_DESC','WEAPONTYPE', 'TGTTYPE', 'TGTCOUNTRY']]\n",
    "dfnew = pd.DataFrame(data=dfResultFunc)\n",
    "dfnew[dfnew.RESULTSBDA == 'DESTROYED'].set_index('RESULTSBDA').sort_values('MFUNC_DESC')"
   ]
  },
  {
   "cell_type": "code",
   "execution_count": 55,
   "metadata": {
    "collapsed": true
   },
   "outputs": [],
   "source": [
    "tgtTypesDestroyed= dfResultType['DESTROYED'].sort_values(ascending=False).head(20)"
   ]
  },
  {
   "cell_type": "code",
   "execution_count": 59,
   "metadata": {},
   "outputs": [
    {
     "data": {
      "text/plain": [
       "0    int64\n",
       "dtype: object"
      ]
     },
     "execution_count": 59,
     "metadata": {},
     "output_type": "execute_result"
    }
   ],
   "source": []
  },
  {
   "cell_type": "code",
   "execution_count": 56,
   "metadata": {},
   "outputs": [
    {
     "data": {
      "image/png": "[encoded data removed]",
      "text/plain": [
       "<matplotlib.figure.Figure at 0x2079d8eaf28>"
      ]
     },
     "metadata": {},
     "output_type": "display_data"
    }
   ],
   "source": [
    "tgtTypesDestroyed.plot(kind='barh', figsize=(11,7));"
   ]
  },
  {
   "cell_type": "code",
   "execution_count": null,
   "metadata": {
    "collapsed": true
   },
   "outputs": [],
   "source": [
    "countrysDestroyed = dfResultCountry['DESTROYED']"
   ]
  },
  {
   "cell_type": "code",
   "execution_count": null,
   "metadata": {},
   "outputs": [],
   "source": [
    "countrysDestroyed"
   ]
  },
  {
   "cell_type": "code",
   "execution_count": null,
   "metadata": {},
   "outputs": [],
   "source": [
    "countrysDestroyed.plot(grid=False, figsize=(11,7));\n",
    "plt.title(\"Countrys more destroyed\");\n",
    "plt.xlabel(\"Countrys TGT destroyed\");\n",
    "plt.ylabel(\"TGT destroyed\");\n"
   ]
  },
  {
   "cell_type": "code",
   "execution_count": null,
   "metadata": {
    "scrolled": true
   },
   "outputs": [],
   "source": [
    "countrys_mission"
   ]
  },
  {
   "cell_type": "markdown",
   "metadata": {},
   "source": [
    "Gráfico de paises onde partiram os aviões da segunda guerra mundial."
   ]
  },
  {
   "cell_type": "code",
   "execution_count": 18,
   "metadata": {
    "collapsed": true
   },
   "outputs": [],
   "source": [
    "DateWar = war[['RESULTSBDA', 'MSNDATE']]"
   ]
  },
  {
   "cell_type": "code",
   "execution_count": 93,
   "metadata": {},
   "outputs": [],
   "source": [
    "dfDateWar = pd.DataFrame(data=DateWar)"
   ]
  },
  {
   "cell_type": "code",
   "execution_count": 94,
   "metadata": {},
   "outputs": [],
   "source": [
    "dfDateWarNew = dfDateWar[dfDateWar['RESULTSBDA'] =='DAMAGED']"
   ]
  },
  {
   "cell_type": "code",
   "execution_count": 87,
   "metadata": {},
   "outputs": [],
   "source": [
    "dfDateWarNewW = dfDateWarNew.sort_values('MSNDATE')"
   ]
  },
  {
   "cell_type": "code",
   "execution_count": 96,
   "metadata": {},
   "outputs": [],
   "source": [
    "newdate = pd.to_datetime(dfDateWarNewW['MSNDATE'])"
   ]
  },
  {
   "cell_type": "code",
   "execution_count": 100,
   "metadata": {},
   "outputs": [],
   "source": [
    "dfnewdate = pd.DataFrame(data=newdate)"
   ]
  },
  {
   "cell_type": "code",
   "execution_count": 120,
   "metadata": {},
   "outputs": [
    {
     "ename": "TypeError",
     "evalue": "'getset_descriptor' object is not callable",
     "output_type": "error",
     "traceback": [
      "\u001b[1;31m---------------------------------------------------------------------------\u001b[0m",
      "\u001b[1;31mTypeError\u001b[0m                                 Traceback (most recent call last)",
      "\u001b[1;32m<ipython-input-120-456bab835514>\u001b[0m in \u001b[0;36m<module>\u001b[1;34m()\u001b[0m\n\u001b[1;32m----> 1\u001b[1;33m \u001b[0mdatetime\u001b[0m\u001b[1;33m.\u001b[0m\u001b[0myear\u001b[0m\u001b[1;33m(\u001b[0m\u001b[0mdfnewdate\u001b[0m\u001b[1;33m[\u001b[0m\u001b[1;34m'MSNDATE'\u001b[0m\u001b[1;33m]\u001b[0m\u001b[1;33m)\u001b[0m\u001b[1;33m\u001b[0m\u001b[0m\n\u001b[0m",
      "\u001b[1;31mTypeError\u001b[0m: 'getset_descriptor' object is not callable"
     ]
    }
   ],
   "source": [
    "datetime.year(dfnewdate['MSNDATE'])"
   ]
  },
  {
   "cell_type": "code",
   "execution_count": 113,
   "metadata": {},
   "outputs": [
    {
     "data": {
      "text/html": [
       "<div>\n",
       "<style>\n",
       "    .dataframe thead tr:only-child th {\n",
       "        text-align: right;\n",
       "    }\n",
       "\n",
       "    .dataframe thead th {\n",
       "        text-align: left;\n",
       "    }\n",
       "\n",
       "    .dataframe tbody tr th {\n",
       "        vertical-align: top;\n",
       "    }\n",
       "</style>\n",
       "<table border=\"1\" class=\"dataframe\">\n",
       "  <thead>\n",
       "    <tr style=\"text-align: right;\">\n",
       "      <th></th>\n",
       "      <th>RESULTSBDA</th>\n",
       "      <th>MSNDATE</th>\n",
       "    </tr>\n",
       "  </thead>\n",
       "  <tbody>\n",
       "    <tr>\n",
       "      <th>20712</th>\n",
       "      <td>DAMAGED</td>\n",
       "      <td>1970-01-02</td>\n",
       "    </tr>\n",
       "    <tr>\n",
       "      <th>310191</th>\n",
       "      <td>DAMAGED</td>\n",
       "      <td>1970-01-02</td>\n",
       "    </tr>\n",
       "    <tr>\n",
       "      <th>104266</th>\n",
       "      <td>DAMAGED</td>\n",
       "      <td>1970-01-06</td>\n",
       "    </tr>\n",
       "    <tr>\n",
       "      <th>598451</th>\n",
       "      <td>DAMAGED</td>\n",
       "      <td>1970-01-06</td>\n",
       "    </tr>\n",
       "    <tr>\n",
       "      <th>236128</th>\n",
       "      <td>DAMAGED</td>\n",
       "      <td>1970-01-07</td>\n",
       "    </tr>\n",
       "  </tbody>\n",
       "</table>\n",
       "</div>"
      ],
      "text/plain": [
       "       RESULTSBDA     MSNDATE\n",
       "20712     DAMAGED  1970-01-02\n",
       "310191    DAMAGED  1970-01-02\n",
       "104266    DAMAGED  1970-01-06\n",
       "598451    DAMAGED  1970-01-06\n",
       "236128    DAMAGED  1970-01-07"
      ]
     },
     "execution_count": 113,
     "metadata": {},
     "output_type": "execute_result"
    }
   ],
   "source": [
    "dfDateWarNewW.head(5)"
   ]
  },
  {
   "cell_type": "code",
   "execution_count": 112,
   "metadata": {},
   "outputs": [],
   "source": [
    "newdf = pd.merge(dfnewdate,dfDateWarNewW);"
   ]
  },
  {
   "cell_type": "code",
   "execution_count": 119,
   "metadata": {},
   "outputs": [
    {
     "data": {
      "text/plain": [
       "MSNDATE    datetime64[ns]\n",
       "dtype: object"
      ]
     },
     "execution_count": 119,
     "metadata": {},
     "output_type": "execute_result"
    }
   ],
   "source": [
    "dfnewdate.dtypes"
   ]
  },
  {
   "cell_type": "code",
   "execution_count": null,
   "metadata": {
    "collapsed": true
   },
   "outputs": [],
   "source": []
  }
 ],
 "metadata": {
  "kernelspec": {
   "display_name": "Python 3",
   "language": "python",
   "name": "python3"
  },
  "language_info": {
   "codemirror_mode": {
    "name": "ipython",
    "version": 3
   },
   "file_extension": ".py",
   "mimetype": "text/x-python",
   "name": "python",
   "nbconvert_exporter": "python",
   "pygments_lexer": "ipython3",
   "version": "3.6.1"
  }
 },
 "nbformat": 4,
 "nbformat_minor": 2
}
